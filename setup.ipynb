{
 "cells": [
  {
   "cell_type": "code",
   "execution_count": 1,
   "id": "75e61800-2fbf-4287-b5f8-25056ed341ad",
   "metadata": {},
   "outputs": [],
   "source": [
    "import weaviate\n",
    "import os"
   ]
  },
  {
   "cell_type": "code",
   "execution_count": 4,
   "id": "a61eeaf1-3d70-436f-b0a6-ee1be55b773e",
   "metadata": {},
   "outputs": [
    {
     "name": "stdout",
     "output_type": "stream",
     "text": [
      "True\n"
     ]
    }
   ],
   "source": [
    "client = weaviate.connect_to_local()\n",
    "print(client.is_ready())\n"
   ]
  },
  {
   "cell_type": "code",
   "execution_count": 7,
   "id": "10f349d3-277d-46df-ba59-323a89bbad6d",
   "metadata": {},
   "outputs": [],
   "source": [
    "from weaviate.classes.config import Configure, Property, DataType\n",
    "from weaviate.collections.classes.config_vectorizers import VectorDistances\n",
    "    \n",
    "client.collections.create(\n",
    "    \"SquareX\",\n",
    "    vectorizer_config=[Configure.NamedVectors.text2vec_huggingface(\n",
    "        name = \"SquareX\",\n",
    "        model = \"sentence-transformers/all-MiniLM-L6-v2\"\n",
    "    )],\n",
    "    properties=[ \n",
    "        Property(name=\"text\", data_type=DataType.TEXT),\n",
    "    ],  \n",
    "\n",
    ")\n",
    "\n",
    "\n",
    "client.close()"
   ]
  },
  {
   "cell_type": "code",
   "execution_count": 5,
   "id": "621b6942",
   "metadata": {},
   "outputs": [],
   "source": [
    "# client.collections.delete(\"SquareX\")"
   ]
  },
  {
   "cell_type": "code",
   "execution_count": 16,
   "id": "5e968f62-f8e0-4f1f-b118-952301716769",
   "metadata": {},
   "outputs": [
    {
     "name": "stdout",
     "output_type": "stream",
     "text": [
      "True\n"
     ]
    }
   ],
   "source": [
    "client = weaviate.connect_to_local(\n",
    "    headers={\n",
    "        \"X-HuggingFace-Api-Key\" : os.getenv(\"huggingface_api_key\")\n",
    "    }\n",
    ")\n",
    "print(client.is_ready())\n",
    "sqx = client.collections.get(\"SquareX\")"
   ]
  },
  {
   "cell_type": "code",
   "execution_count": 17,
   "id": "8208051c",
   "metadata": {},
   "outputs": [
    {
     "data": {
      "text/plain": [
       "UUID('656eb238-d3be-4aef-8bed-57a3e40810c4')"
      ]
     },
     "execution_count": 17,
     "metadata": {},
     "output_type": "execute_result"
    }
   ],
   "source": [
    "sqx.data.insert(properties={\"text\": \"hello world\"})"
   ]
  },
  {
   "cell_type": "code",
   "execution_count": null,
   "id": "4d302161",
   "metadata": {},
   "outputs": [],
   "source": []
  }
 ],
 "metadata": {
  "kernelspec": {
   "display_name": "Python 3 (ipykernel)",
   "language": "python",
   "name": "python3"
  },
  "language_info": {
   "codemirror_mode": {
    "name": "ipython",
    "version": 3
   },
   "file_extension": ".py",
   "mimetype": "text/x-python",
   "name": "python",
   "nbconvert_exporter": "python",
   "pygments_lexer": "ipython3",
   "version": "3.12.4"
  }
 },
 "nbformat": 4,
 "nbformat_minor": 5
}
